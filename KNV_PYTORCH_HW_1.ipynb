{
 "cells": [
  {
   "cell_type": "markdown",
   "metadata": {},
   "source": [
    "## Кривоногов Н.В., PyTorch, практическое задание № 1"
   ]
  },
  {
   "cell_type": "code",
   "execution_count": 1,
   "metadata": {},
   "outputs": [],
   "source": [
    "import torch\n",
    "\n",
    "import warnings\n",
    "warnings.filterwarnings('ignore')"
   ]
  },
  {
   "cell_type": "code",
   "execution_count": 2,
   "metadata": {},
   "outputs": [
    {
     "data": {
      "text/plain": [
       "tensor([[[0.1038, 0.3492, 0.3572, 0.5351, 0.4527],\n",
       "         [0.7374, 0.1563, 0.1913, 0.4652, 0.2187],\n",
       "         [0.8087, 0.0805, 0.9287, 0.9656, 0.6328],\n",
       "         [0.5272, 0.3346, 0.6601, 0.8568, 0.2961]],\n",
       "\n",
       "        [[0.8371, 0.0657, 0.4575, 0.0317, 0.2905],\n",
       "         [0.5073, 0.7560, 0.5851, 0.3349, 0.9008],\n",
       "         [0.6587, 0.7992, 0.4581, 0.1046, 0.9529],\n",
       "         [0.4348, 0.2361, 0.2557, 0.3366, 0.7144]],\n",
       "\n",
       "        [[0.6277, 0.3700, 0.8178, 0.4416, 0.6451],\n",
       "         [0.2462, 0.3920, 0.3205, 0.6582, 0.4129],\n",
       "         [0.5895, 0.3991, 0.4692, 0.6363, 0.2457],\n",
       "         [0.6891, 0.3989, 0.3650, 0.5326, 0.4578]]])"
      ]
     },
     "execution_count": 2,
     "metadata": {},
     "output_type": "execute_result"
    }
   ],
   "source": [
    "# Создайте случайный FloatTensor размера 3x4x5\n",
    "\n",
    "import random\n",
    "\n",
    "a = torch.FloatTensor(torch.rand(size=(3, 4, 5)))\n",
    "\n",
    "a"
   ]
  },
  {
   "cell_type": "code",
   "execution_count": 3,
   "metadata": {},
   "outputs": [
    {
     "data": {
      "text/plain": [
       "tensor([[[0.1972, 0.5457, 0.7613, 0.6676, 0.7794],\n",
       "         [0.7469, 0.2865, 0.0852, 0.2640, 0.9788],\n",
       "         [0.3667, 0.7600, 0.5041, 0.6331, 0.2284],\n",
       "         [0.5822, 0.6420, 0.2077, 0.4924, 0.2155]],\n",
       "\n",
       "        [[0.1688, 0.5299, 0.5419, 0.7053, 0.2416],\n",
       "         [0.1603, 0.4546, 0.0436, 0.3853, 0.7941],\n",
       "         [0.0696, 0.9938, 0.3786, 0.4681, 0.9603],\n",
       "         [0.9450, 0.9634, 0.9423, 0.7281, 0.7269]],\n",
       "\n",
       "        [[0.1331, 0.7116, 0.4285, 0.5231, 0.2515],\n",
       "         [0.0420, 0.9553, 0.7107, 0.1367, 0.0306],\n",
       "         [0.6400, 0.0912, 0.1052, 0.4585, 0.2596],\n",
       "         [0.6299, 0.2407, 0.9974, 0.5778, 0.8735]]])"
      ]
     },
     "execution_count": 3,
     "metadata": {},
     "output_type": "execute_result"
    }
   ],
   "source": [
    "# или просто: \n",
    "\n",
    "a = torch.rand(size=(3, 4, 5))\n",
    "\n",
    "a\n",
    "\n",
    "# так как torch.Tensor является сокращённым названием для torch.FloatTensor"
   ]
  },
  {
   "cell_type": "code",
   "execution_count": 4,
   "metadata": {},
   "outputs": [
    {
     "data": {
      "text/plain": [
       "tensor([[[0.4286, 0.6565, 0.4759, 0.3813, 0.5502],\n",
       "         [0.7572, 0.0984, 0.8011, 0.7428, 0.0635],\n",
       "         [0.3300, 0.4038, 0.5858, 0.1781, 0.0102],\n",
       "         [0.0105, 0.9626, 0.3428, 0.2934, 0.6756]],\n",
       "\n",
       "        [[0.7161, 0.2888, 0.3386, 0.9910, 0.3363],\n",
       "         [0.6436, 0.8437, 0.6034, 0.0851, 0.7297],\n",
       "         [0.1969, 0.4804, 0.0183, 0.6548, 0.1837],\n",
       "         [0.6108, 0.0511, 0.3483, 0.1821, 0.2394]],\n",
       "\n",
       "        [[0.3672, 0.1676, 0.0784, 0.4189, 0.7083],\n",
       "         [0.7531, 0.2743, 0.4686, 0.0677, 0.9966],\n",
       "         [0.9275, 0.7235, 0.4190, 0.2543, 0.6772],\n",
       "         [0.3163, 0.2119, 0.0357, 0.5943, 0.8082]]])"
      ]
     },
     "execution_count": 4,
     "metadata": {},
     "output_type": "execute_result"
    }
   ],
   "source": [
    "# или же: \n",
    "\n",
    "a = torch.rand(size=(3, 4, 5)).type(torch.FloatTensor)\n",
    "\n",
    "a"
   ]
  },
  {
   "cell_type": "code",
   "execution_count": null,
   "metadata": {},
   "outputs": [],
   "source": []
  },
  {
   "cell_type": "code",
   "execution_count": 5,
   "metadata": {},
   "outputs": [
    {
     "data": {
      "text/plain": [
       "torch.Size([3, 4, 5])"
      ]
     },
     "execution_count": 5,
     "metadata": {},
     "output_type": "execute_result"
    }
   ],
   "source": [
    "# Выведите его форму (shape)\n",
    "\n",
    "a.shape"
   ]
  },
  {
   "cell_type": "code",
   "execution_count": 6,
   "metadata": {},
   "outputs": [
    {
     "data": {
      "text/plain": [
       "torch.Size([3, 4, 5])"
      ]
     },
     "execution_count": 6,
     "metadata": {},
     "output_type": "execute_result"
    }
   ],
   "source": [
    "# или: \n",
    "\n",
    "a.size()"
   ]
  },
  {
   "cell_type": "code",
   "execution_count": null,
   "metadata": {},
   "outputs": [],
   "source": []
  },
  {
   "cell_type": "code",
   "execution_count": 7,
   "metadata": {},
   "outputs": [
    {
     "data": {
      "text/plain": [
       "tensor([[0.4286, 0.6565, 0.4759, 0.3813, 0.5502, 0.7572, 0.0984, 0.8011, 0.7428,\n",
       "         0.0635],\n",
       "        [0.3300, 0.4038, 0.5858, 0.1781, 0.0102, 0.0105, 0.9626, 0.3428, 0.2934,\n",
       "         0.6756],\n",
       "        [0.7161, 0.2888, 0.3386, 0.9910, 0.3363, 0.6436, 0.8437, 0.6034, 0.0851,\n",
       "         0.7297],\n",
       "        [0.1969, 0.4804, 0.0183, 0.6548, 0.1837, 0.6108, 0.0511, 0.3483, 0.1821,\n",
       "         0.2394],\n",
       "        [0.3672, 0.1676, 0.0784, 0.4189, 0.7083, 0.7531, 0.2743, 0.4686, 0.0677,\n",
       "         0.9966],\n",
       "        [0.9275, 0.7235, 0.4190, 0.2543, 0.6772, 0.3163, 0.2119, 0.0357, 0.5943,\n",
       "         0.8082]])"
      ]
     },
     "execution_count": 7,
     "metadata": {},
     "output_type": "execute_result"
    }
   ],
   "source": [
    "# Приведите его к форме 6 X 10\n",
    "\n",
    "a.resize(6, 10)"
   ]
  },
  {
   "cell_type": "code",
   "execution_count": null,
   "metadata": {},
   "outputs": [],
   "source": []
  },
  {
   "cell_type": "code",
   "execution_count": 8,
   "metadata": {},
   "outputs": [
    {
     "data": {
      "text/plain": [
       "tensor([[[0.4286, 2.6259, 0.9517, 0.7626, 0.5502],\n",
       "         [0.7572, 0.3936, 1.6022, 1.4856, 0.0635],\n",
       "         [0.3300, 1.6152, 1.1716, 0.3562, 0.0102],\n",
       "         [0.0105, 3.8503, 0.6856, 0.5867, 0.6756]],\n",
       "\n",
       "        [[0.7161, 1.1551, 0.6771, 1.9820, 0.3363],\n",
       "         [0.6436, 3.3749, 1.2068, 0.1702, 0.7297],\n",
       "         [0.1969, 1.9218, 0.0366, 1.3096, 0.1837],\n",
       "         [0.6108, 0.2044, 0.6967, 0.3642, 0.2394]],\n",
       "\n",
       "        [[0.3672, 0.6705, 0.1568, 0.8377, 0.7083],\n",
       "         [0.7531, 1.0974, 0.9372, 0.1354, 0.9966],\n",
       "         [0.9275, 2.8941, 0.8380, 0.5086, 0.6772],\n",
       "         [0.3163, 0.8477, 0.0714, 1.1886, 0.8082]]])"
      ]
     },
     "execution_count": 8,
     "metadata": {},
     "output_type": "execute_result"
    }
   ],
   "source": [
    "# Умножьте его на вектор [1, 4, 2, 2, 1] поэлементно\n",
    "\n",
    "b = torch.IntTensor([1, 4, 2, 2, 1])\n",
    "\n",
    "a * b"
   ]
  },
  {
   "cell_type": "code",
   "execution_count": null,
   "metadata": {},
   "outputs": [],
   "source": []
  },
  {
   "cell_type": "code",
   "execution_count": 9,
   "metadata": {},
   "outputs": [
    {
     "data": {
      "text/plain": [
       "tensor([[3.0699, 1.3969, 2.3838, 1.6563, 1.9404, 2.3233],\n",
       "        [1.3969, 2.2335, 2.2748, 0.7783, 1.4423, 1.8358],\n",
       "        [2.3838, 2.2748, 3.8359, 1.8333, 2.7232, 2.5390],\n",
       "        [1.6563, 0.7783, 1.8333, 1.3199, 1.4468, 1.3470],\n",
       "        [1.9404, 1.4423, 2.7232, 1.4468, 2.7060, 2.2397],\n",
       "        [2.3233, 1.8358, 2.5390, 1.3470, 2.2397, 3.2353]])"
      ]
     },
     "execution_count": 9,
     "metadata": {},
     "output_type": "execute_result"
    }
   ],
   "source": [
    "# Умножьте тензор матрично на себя, чтобы результат был размерности 6x6\n",
    "\n",
    "a.resize_(6, 10)\n",
    "\n",
    "torch.matmul(a, a.T, out=torch.Tensor(6, 6))"
   ]
  },
  {
   "cell_type": "code",
   "execution_count": null,
   "metadata": {},
   "outputs": [],
   "source": []
  },
  {
   "cell_type": "code",
   "execution_count": 10,
   "metadata": {},
   "outputs": [
    {
     "data": {
      "text/plain": [
       "(tensor(3.), tensor(1.), tensor(-75.))"
      ]
     },
     "execution_count": 10,
     "metadata": {},
     "output_type": "execute_result"
    }
   ],
   "source": [
    "# Посчитайте производную функции y = x**3 + z - 75t в точке (1, 0.5, 2)\n",
    "\n",
    "x = torch.tensor(1., requires_grad=True)\n",
    "z = torch.tensor(0.5, requires_grad=True)\n",
    "t = torch.tensor(2., requires_grad=True)\n",
    "\n",
    "y = (x ** 3) + z - 75 * t\n",
    "\n",
    "y.backward()\n",
    "\n",
    "x.grad, z.grad, t.grad"
   ]
  },
  {
   "cell_type": "code",
   "execution_count": null,
   "metadata": {},
   "outputs": [],
   "source": []
  },
  {
   "cell_type": "code",
   "execution_count": 11,
   "metadata": {},
   "outputs": [
    {
     "data": {
      "text/plain": [
       "tensor([[1., 1., 1., 1., 1., 1.],\n",
       "        [1., 1., 1., 1., 1., 1.],\n",
       "        [1., 1., 1., 1., 1., 1.],\n",
       "        [1., 1., 1., 1., 1., 1.],\n",
       "        [1., 1., 1., 1., 1., 1.]])"
      ]
     },
     "execution_count": 11,
     "metadata": {},
     "output_type": "execute_result"
    }
   ],
   "source": [
    "# Создайте единичный тензор размера 5x6\n",
    "\n",
    "ones = torch.ones(5, 6)\n",
    "\n",
    "ones"
   ]
  },
  {
   "cell_type": "code",
   "execution_count": null,
   "metadata": {},
   "outputs": [],
   "source": []
  },
  {
   "cell_type": "code",
   "execution_count": 12,
   "metadata": {},
   "outputs": [
    {
     "data": {
      "text/plain": [
       "array([[1., 1., 1., 1., 1., 1.],\n",
       "       [1., 1., 1., 1., 1., 1.],\n",
       "       [1., 1., 1., 1., 1., 1.],\n",
       "       [1., 1., 1., 1., 1., 1.],\n",
       "       [1., 1., 1., 1., 1., 1.]], dtype=float32)"
      ]
     },
     "execution_count": 12,
     "metadata": {},
     "output_type": "execute_result"
    }
   ],
   "source": [
    "# Переведите его в формат numpy\n",
    "\n",
    "ones.numpy()"
   ]
  },
  {
   "cell_type": "code",
   "execution_count": null,
   "metadata": {},
   "outputs": [],
   "source": []
  },
  {
   "cell_type": "code",
   "execution_count": 13,
   "metadata": {},
   "outputs": [],
   "source": [
    "# Давайте теперь пооптимизируем: возьмите функцию y = x**w1 - 2 * x**2 + 5\n",
    "# Посчитайте "
   ]
  },
  {
   "cell_type": "code",
   "execution_count": 14,
   "metadata": {},
   "outputs": [],
   "source": [
    "from torch import nn\n",
    "from torch import optim\n",
    "from torch.autograd import Variable"
   ]
  },
  {
   "cell_type": "code",
   "execution_count": 15,
   "metadata": {},
   "outputs": [],
   "source": [
    "x_data = Variable(torch.tensor([[1.0]]))\n",
    "y_data = Variable(torch.tensor([[2.0]]))\n",
    "w1 = Variable(torch.randn(1), requires_grad=True)"
   ]
  },
  {
   "cell_type": "code",
   "execution_count": 16,
   "metadata": {},
   "outputs": [],
   "source": [
    "def forward(x):\n",
    "    y = x ** w1 - 2 * x ** 2 + 5\n",
    "    return y"
   ]
  },
  {
   "cell_type": "code",
   "execution_count": 17,
   "metadata": {},
   "outputs": [],
   "source": [
    "criterion = nn.MSELoss()\n",
    "optimizer = torch.optim.SGD([w1], lr=0.001)"
   ]
  },
  {
   "cell_type": "code",
   "execution_count": 18,
   "metadata": {},
   "outputs": [
    {
     "name": "stdout",
     "output_type": "stream",
     "text": [
      "loss:  4.0\n",
      "dY/dw1:  None\n"
     ]
    }
   ],
   "source": [
    "optimizer.zero_grad()\n",
    "y_pred = forward(x_data)\n",
    "loss = criterion(y_pred, y_data)\n",
    "print('loss: ', loss.item())\n",
    "print ('dY/dw1: ', w1.grad) "
   ]
  },
  {
   "cell_type": "code",
   "execution_count": 19,
   "metadata": {},
   "outputs": [
    {
     "name": "stdout",
     "output_type": "stream",
     "text": [
      "dY/dw1:  tensor([0.])\n",
      "w1:  tensor([1.5451], requires_grad=True)\n"
     ]
    }
   ],
   "source": [
    "loss.backward()\n",
    "print ('dY/dw1: ', w1.grad)\n",
    "print ('w1: ', w1)"
   ]
  },
  {
   "cell_type": "code",
   "execution_count": 20,
   "metadata": {},
   "outputs": [
    {
     "name": "stdout",
     "output_type": "stream",
     "text": [
      "w1:  tensor([1.5451], requires_grad=True)\n",
      "y_pred:  tensor([[4.]], grad_fn=<AddBackward0>)\n"
     ]
    }
   ],
   "source": [
    "optimizer.step()\n",
    "print ('w1: ', w1)\n",
    "print ('y_pred: ', x_data ** w1 - 2 * x_data ** 2 + 5)"
   ]
  }
 ],
 "metadata": {
  "kernelspec": {
   "display_name": "Python 3 (ipykernel)",
   "language": "python",
   "name": "python3"
  },
  "language_info": {
   "codemirror_mode": {
    "name": "ipython",
    "version": 3
   },
   "file_extension": ".py",
   "mimetype": "text/x-python",
   "name": "python",
   "nbconvert_exporter": "python",
   "pygments_lexer": "ipython3",
   "version": "3.10.9"
  }
 },
 "nbformat": 4,
 "nbformat_minor": 2
}
